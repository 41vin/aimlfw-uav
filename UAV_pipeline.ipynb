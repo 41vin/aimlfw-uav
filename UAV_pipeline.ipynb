{
 "cells": [
  {
   "cell_type": "code",
   "execution_count": 1,
   "metadata": {},
   "outputs": [],
   "source": [
    "import kfp\n",
    "import kfp.components as components\n",
    "import kfp.dsl as dsl\n",
    "from kfp.components import InputPath, OutputPath"
   ]
  },
  {
   "cell_type": "code",
   "execution_count": 2,
   "metadata": {},
   "outputs": [],
   "source": [
    "def train_export_model(trainingjobName: str, epochs: str, version: str):\n",
    "    \n",
    "    import tensorflow as tf\n",
    "    from numpy import array\n",
    "    from tensorflow.keras.models import Sequential\n",
    "    from tensorflow.keras.layers import Dense, Flatten, Dropout, Activation, LSTM\n",
    "    import numpy as np\n",
    "    print(\"numpy version\")\n",
    "    print(np.__version__)\n",
    "    import pandas as pd\n",
    "    import os\n",
    "    from featurestoresdk.feature_store_sdk import FeatureStoreSdk\n",
    "    from modelmetricsdk.model_metrics_sdk import ModelMetricsSdk\n",
    "\n",
    "    import requests\n",
    "    from tensorflow import keras\n",
    "    from sklearn.model_selection import train_test_split\n",
    "\n",
    "    fs_sdk = FeatureStoreSdk()\n",
    "    mm_sdk = ModelMetricsSdk()\n",
    "    \n",
    "    features = fs_sdk.get_features(trainingjobName, ['x', 'y', 'z'])\n",
    "    features = features.astype('float64')\n",
    "    print(\"Dataframe:\")\n",
    "    print(features)\n",
    "    print(features.dtypes)\n",
    "\n",
    "    features = features.to_numpy()\n",
    "    print(\"features.dtype:\")\n",
    "    print(features.dtype)\n",
    "\n",
    "    one_set_data_count = 2500\n",
    "    set_count = 1\n",
    "    input_data_series_count = 100  # hyper parameter\n",
    "    separate_data = []\n",
    "    series = []\n",
    "    label = []\n",
    "    for i in range(set_count):\n",
    "        separate_data.append(features[i*one_set_data_count: i*one_set_data_count+one_set_data_count])\n",
    "        for j in range(one_set_data_count-input_data_series_count):\n",
    "            series.append(separate_data[i][j:j+input_data_series_count])  # get input_data_series_count as input\n",
    "            label.append(separate_data[i][j+input_data_series_count])  # get input_data_series_count+1 data as label\n",
    "    separate_data = np.array(separate_data)\n",
    "    series = np.array(series)\n",
    "    label = np.array(label)\n",
    "\n",
    "    # make train and test\n",
    "    x_train, x_test, y_train, y_test = train_test_split(series, label, test_size=0.4, random_state=42)\n",
    "    x_test, x_validate, y_test, y_validate = train_test_split(x_test, y_test, test_size=0.5, random_state=42)\n",
    "    print(\"x_train:\", x_train.dtype)\n",
    "    print(\"y_train:\", y_train.dtype)\n",
    "    print(\"x_validate:\", x_validate.dtype)\n",
    "    print(\"y_validate:\", y_validate.dtype)\n",
    "\n",
    "\n",
    "    # Define the model architecture\n",
    "    model = Sequential()\n",
    "    model.add(LSTM(units=64, input_shape=(input_data_series_count, 3)))\n",
    "    model.add(Dropout(0.3))\n",
    "    model.add(Dense(32, activation='relu'))\n",
    "    model.add(Dense(3, activation='linear'))\n",
    "    \n",
    "    # Compile the model\n",
    "    model.compile(loss='mean_squared_error', optimizer='adam', metrics=['accuracy'])\n",
    "\n",
    "    # Train the model on your data\n",
    "    batch_size = 4\n",
    "    model.fit(x_train, y_train, batch_size=batch_size, epochs=int(epochs), validation_data=(x_validate, y_validate))\n",
    "\n",
    "    model.save(\"./\")\n",
    "    mm_sdk.upload_model(\"./\", trainingjobName, version)"
   ]
  },
  {
   "cell_type": "code",
   "execution_count": 3,
   "metadata": {},
   "outputs": [],
   "source": [
    "BASE_IMAGE = \"traininghost/pipelineimage:latest\""
   ]
  },
  {
   "cell_type": "code",
   "execution_count": 4,
   "metadata": {},
   "outputs": [],
   "source": [
    "def train_and_export(trainingjobName: str, epochs: str, version: str):\n",
    "    trainOp = components.func_to_container_op(train_export_model, base_image=BASE_IMAGE)(trainingjobName, epochs, version)\n",
    "    # Below line to disable caching of pipeline step\n",
    "    trainOp.execution_options.caching_strategy.max_cache_staleness = \"P0D\"\n",
    "    trainOp.container.set_image_pull_policy(\"IfNotPresent\")"
   ]
  },
  {
   "cell_type": "code",
   "execution_count": null,
   "metadata": {},
   "outputs": [],
   "source": [
    "PIPELINE_NAME = 'UAV_pipeline'"
   ]
  },
  {
   "cell_type": "code",
   "execution_count": 5,
   "metadata": {},
   "outputs": [],
   "source": [
    "@dsl.pipeline(\n",
    "    name=PIPELINE_NAME,\n",
    "    description='UAVData_pipeline'\n",
    ")\n",
    "def super_model_pipeline( \n",
    "    trainingjob_name: str, epochs: str, version: str):\n",
    "    \n",
    "    train_and_export(trainingjob_name, epochs, version)"
   ]
  },
  {
   "cell_type": "code",
   "execution_count": 6,
   "metadata": {},
   "outputs": [],
   "source": [
    "pipeline_func = super_model_pipeline\n",
    "file_name = \"model_training_pipeline\"\n",
    "kfp.compiler.Compiler().compile(pipeline_func, '{}.zip'.format(file_name))"
   ]
  },
  {
   "cell_type": "code",
   "execution_count": 7,
   "metadata": {},
   "outputs": [
    {
     "data": {
      "text/plain": [
       "<Response [200]>"
      ]
     },
     "execution_count": 7,
     "metadata": {},
     "output_type": "execute_result"
    }
   ],
   "source": [
    "import requests\n",
    "pipeline_name=PIPELINE_NAME\n",
    "pipeline_file = file_name+'.zip'\n",
    "requests.post(\"http://tm.traininghost:32002/pipelines/{}/upload\".format(pipeline_name), files={'file':open(pipeline_file,'rb')})"
   ]
  }
 ],
 "metadata": {
  "kernelspec": {
   "display_name": "Python 3 (ipykernel)",
   "language": "python",
   "name": "python3"
  },
  "language_info": {
   "codemirror_mode": {
    "name": "ipython",
    "version": 3
   },
   "file_extension": ".py",
   "mimetype": "text/x-python",
   "name": "python",
   "nbconvert_exporter": "python",
   "pygments_lexer": "ipython3",
   "version": "3.9.6"
  }
 },
 "nbformat": 4,
 "nbformat_minor": 2
}
